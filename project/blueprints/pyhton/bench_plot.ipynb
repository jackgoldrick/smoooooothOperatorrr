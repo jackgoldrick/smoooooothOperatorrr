{
 "cells": [
  {
   "cell_type": "code",
   "execution_count": 366,
   "metadata": {},
   "outputs": [
    {
     "name": "stdout",
     "output_type": "stream",
     "text": [
      "The autoreload extension is already loaded. To reload it, use:\n",
      "  %reload_ext autoreload\n"
     ]
    }
   ],
   "source": [
    "import numpy as np\n",
    "%matplotlib widget\n",
    "from matplotlib import pyplot as plt\n",
    "from tqdm import tqdm\n",
    "import torch as tc\n",
    "import gen_comp_plot as gcp\n",
    "from p_power import *\n",
    "import msd_adam as msda\n",
    "%load_ext autoreload\n",
    "%autoreload 2"
   ]
  },
  {
   "cell_type": "code",
   "execution_count": 367,
   "metadata": {},
   "outputs": [],
   "source": [
    "A = tc.complex(tc.Tensor([[2, 1], [1, 2]]), tc.zeros(2, 2))\n",
    "U = tc.complex(tc.Tensor([[1, 1], [1, -1]]), tc.zeros(2, 2)) / np.sqrt(2)"
   ]
  },
  {
   "cell_type": "code",
   "execution_count": 368,
   "metadata": {},
   "outputs": [
    {
     "name": "stdout",
     "output_type": "stream",
     "text": [
      "[1.  1.1 1.2 1.3 1.4 1.5 1.6 1.7 1.8 1.9 2.  2.1 2.2 2.3 2.4 2.5 2.6 2.7\n",
      " 2.8 2.9 3.  3.1 3.2 3.3 3.4 3.5 3.6 3.7 3.8 3.9 4.  4.1 4.2 4.3 4.4 4.5\n",
      " 4.6 4.7 4.8 4.9]\n"
     ]
    }
   ],
   "source": [
    "\n",
    "pa = np.arange(1, 5, .1)\n",
    "# pb = np.arange(1, 5, 0.1)\n",
    "# pc = np.arange(1, 5, 0.2)\n",
    "# pd = np.arange(1, 5, 0.3)\n",
    "# pe = np.arange(1, 5, 0.4)\n",
    "# pf = np.arange(1, 5, 0.5)\n",
    "# pg = np.arange(1, 5, 1)\n",
    "print(pa)"
   ]
  },
  {
   "cell_type": "code",
   "execution_count": 369,
   "metadata": {},
   "outputs": [],
   "source": [
    "\n",
    "# # a = [max_sim_diag(A, U, p, step=0)[0] for p in tqdm(pa)]\n",
    "# # b = [max_sim_diag(A, U, p, step=0.01)[0] for p in tqdm(pa)]\n",
    "# c = [max_sim_diag(A, U, p, step=0.1)[0] for p in tqdm(pa)]\n",
    "# # d = [max_sim_diag(A, U, p, step=0.5)[0] for p in tqdm(pa)]\n",
    "# # b = [max_sim_diag(A, U, p)[0] for p in tqdm(pb)]\n",
    "# # c = [max_sim_diag(A, U, p)[0] for p in tqdm(pc)]\n",
    "# # d = [max_sim_diag(A, U, p)[0] for p in tqdm(pd)]\n",
    "# # e = [max_sim_diag(A, U, p)[0] for p in tqdm(pe)]\n",
    "# # f = [max_sim_diag(A, U, p)[0] for p in tqdm(pf)]\n",
    "# # g = [max_sim_diag(A, U, p)[0] for p in tqdm(pg)]aaaaaaa\n",
    "# default = [max_sim_diag(A, U, p)[1] for p in tqdm(pa)]\n"
   ]
  },
  {
   "cell_type": "code",
   "execution_count": 370,
   "metadata": {},
   "outputs": [],
   "source": [
    "# figure2 = plt.figure()\n",
    "# # plt.plot(pa, a, label='step=0')\n",
    "# # plt.plot(pa, b, label='step=0.01')\n",
    "# plt.plot(pa, c, label='step=0.1')\n",
    "# # plt.plot(pa, d, label='step=0.5')\n",
    "# plt.plot(pa, default, label='power method', linestyle='--')\n",
    "# # plt.plot(pb, b, label='.1')\n",
    "# # plt.plot(pc, c, label='.2')\n",
    "# # plt.plot(pd, d, label='.3')\n",
    "# # plt.plot(pe, e, label='.4')\n",
    "# # plt.plot(pf, f, label='.5')\n",
    "# # plt.plot(pg, g, label='1')\n",
    "# plt.legend()\n",
    "# # qs = 1 - 1 / (1 - ps)\n",
    "# # plt.plot(ps, np.maximum(2**(1/ps), 2**(1/ps)), linestyle='--', linewidth=2)\n",
    "# plt.show()"
   ]
  },
  {
   "cell_type": "code",
   "execution_count": 371,
   "metadata": {},
   "outputs": [
    {
     "name": "stderr",
     "output_type": "stream",
     "text": [
      " 28%|██▊       | 11/40 [01:51<04:40,  9.66s/it]"
     ]
    },
    {
     "name": "stdout",
     "output_type": "stream",
     "text": [
      "Value returned will violate the Matrix norm inequality\n",
      "Number of violations for p=2.00: 2\n"
     ]
    },
    {
     "name": "stderr",
     "output_type": "stream",
     "text": [
      " 30%|███       | 12/40 [02:02<04:41, 10.07s/it]"
     ]
    },
    {
     "name": "stdout",
     "output_type": "stream",
     "text": [
      "Value returned will violate the Matrix norm inequality\n",
      "Number of violations for p=2.10: 2\n"
     ]
    },
    {
     "name": "stderr",
     "output_type": "stream",
     "text": [
      " 32%|███▎      | 13/40 [02:12<04:33, 10.15s/it]"
     ]
    },
    {
     "name": "stdout",
     "output_type": "stream",
     "text": [
      "Value returned will violate the Matrix norm inequality\n",
      "Number of violations for p=2.20: 1\n"
     ]
    },
    {
     "name": "stderr",
     "output_type": "stream",
     "text": [
      " 35%|███▌      | 14/40 [02:21<04:15,  9.83s/it]"
     ]
    },
    {
     "name": "stdout",
     "output_type": "stream",
     "text": [
      "Value returned will violate the Matrix norm inequality\n",
      "Number of violations for p=2.30: 2\n"
     ]
    },
    {
     "name": "stderr",
     "output_type": "stream",
     "text": [
      " 38%|███▊      | 15/40 [02:31<04:03,  9.75s/it]"
     ]
    },
    {
     "name": "stdout",
     "output_type": "stream",
     "text": [
      "Value returned will violate the Matrix norm inequality\n",
      "Number of violations for p=2.40: 2\n"
     ]
    },
    {
     "name": "stderr",
     "output_type": "stream",
     "text": [
      " 40%|████      | 16/40 [02:38<03:34,  8.95s/it]"
     ]
    },
    {
     "name": "stdout",
     "output_type": "stream",
     "text": [
      "Value returned will violate the Matrix norm inequality\n",
      "Number of violations for p=2.50: 2\n"
     ]
    },
    {
     "name": "stderr",
     "output_type": "stream",
     "text": [
      " 42%|████▎     | 17/40 [02:46<03:20,  8.72s/it]"
     ]
    },
    {
     "name": "stdout",
     "output_type": "stream",
     "text": [
      "Value returned will violate the Matrix norm inequality\n",
      "Number of violations for p=2.60: 2\n"
     ]
    },
    {
     "name": "stderr",
     "output_type": "stream",
     "text": [
      " 45%|████▌     | 18/40 [02:54<03:04,  8.39s/it]"
     ]
    },
    {
     "name": "stdout",
     "output_type": "stream",
     "text": [
      "Value returned will violate the Matrix norm inequality\n",
      "Number of violations for p=2.70: 2\n"
     ]
    },
    {
     "name": "stderr",
     "output_type": "stream",
     "text": [
      " 48%|████▊     | 19/40 [03:03<02:57,  8.45s/it]"
     ]
    },
    {
     "name": "stdout",
     "output_type": "stream",
     "text": [
      "Value returned will violate the Matrix norm inequality\n",
      "Number of violations for p=2.80: 1\n"
     ]
    },
    {
     "name": "stderr",
     "output_type": "stream",
     "text": [
      " 50%|█████     | 20/40 [03:10<02:45,  8.29s/it]"
     ]
    },
    {
     "name": "stdout",
     "output_type": "stream",
     "text": [
      "Value returned will violate the Matrix norm inequality\n",
      "Number of violations for p=2.90: 2\n"
     ]
    },
    {
     "name": "stderr",
     "output_type": "stream",
     "text": [
      " 52%|█████▎    | 21/40 [03:18<02:33,  8.07s/it]"
     ]
    },
    {
     "name": "stdout",
     "output_type": "stream",
     "text": [
      "Value returned will violate the Matrix norm inequality\n",
      "Number of violations for p=3.00: 1\n"
     ]
    },
    {
     "name": "stderr",
     "output_type": "stream",
     "text": [
      " 55%|█████▌    | 22/40 [03:26<02:25,  8.10s/it]"
     ]
    },
    {
     "name": "stdout",
     "output_type": "stream",
     "text": [
      "Value returned will violate the Matrix norm inequality\n",
      "Number of violations for p=3.10: 2\n"
     ]
    },
    {
     "name": "stderr",
     "output_type": "stream",
     "text": [
      " 57%|█████▊    | 23/40 [03:34<02:14,  7.91s/it]"
     ]
    },
    {
     "name": "stdout",
     "output_type": "stream",
     "text": [
      "Value returned will violate the Matrix norm inequality\n",
      "Number of violations for p=3.20: 2\n"
     ]
    },
    {
     "name": "stderr",
     "output_type": "stream",
     "text": [
      " 60%|██████    | 24/40 [03:43<02:15,  8.45s/it]"
     ]
    },
    {
     "name": "stdout",
     "output_type": "stream",
     "text": [
      "Value returned will violate the Matrix norm inequality\n",
      "Number of violations for p=3.30: 1\n"
     ]
    },
    {
     "name": "stderr",
     "output_type": "stream",
     "text": [
      " 62%|██████▎   | 25/40 [03:50<02:00,  8.01s/it]"
     ]
    },
    {
     "name": "stdout",
     "output_type": "stream",
     "text": [
      "Value returned will violate the Matrix norm inequality\n",
      "Number of violations for p=3.40: 2\n"
     ]
    },
    {
     "name": "stderr",
     "output_type": "stream",
     "text": [
      " 65%|██████▌   | 26/40 [03:58<01:51,  7.95s/it]"
     ]
    },
    {
     "name": "stdout",
     "output_type": "stream",
     "text": [
      "Value returned will violate the Matrix norm inequality\n",
      "Number of violations for p=3.50: 2\n"
     ]
    },
    {
     "name": "stderr",
     "output_type": "stream",
     "text": [
      " 68%|██████▊   | 27/40 [04:05<01:38,  7.61s/it]"
     ]
    },
    {
     "name": "stdout",
     "output_type": "stream",
     "text": [
      "Value returned will violate the Matrix norm inequality\n",
      "Number of violations for p=3.60: 1\n"
     ]
    },
    {
     "name": "stderr",
     "output_type": "stream",
     "text": [
      " 70%|███████   | 28/40 [04:13<01:31,  7.65s/it]"
     ]
    },
    {
     "name": "stdout",
     "output_type": "stream",
     "text": [
      "Value returned will violate the Matrix norm inequality\n",
      "Number of violations for p=3.70: 2\n"
     ]
    },
    {
     "name": "stderr",
     "output_type": "stream",
     "text": [
      " 72%|███████▎  | 29/40 [04:21<01:26,  7.90s/it]"
     ]
    },
    {
     "name": "stdout",
     "output_type": "stream",
     "text": [
      "Value returned will violate the Matrix norm inequality\n",
      "Number of violations for p=3.80: 2\n"
     ]
    },
    {
     "name": "stderr",
     "output_type": "stream",
     "text": [
      " 75%|███████▌  | 30/40 [04:30<01:21,  8.17s/it]"
     ]
    },
    {
     "name": "stdout",
     "output_type": "stream",
     "text": [
      "Value returned will violate the Matrix norm inequality\n",
      "Number of violations for p=3.90: 2\n"
     ]
    },
    {
     "name": "stderr",
     "output_type": "stream",
     "text": [
      " 78%|███████▊  | 31/40 [04:39<01:14,  8.27s/it]"
     ]
    },
    {
     "name": "stdout",
     "output_type": "stream",
     "text": [
      "Value returned will violate the Matrix norm inequality\n",
      "Number of violations for p=4.00: 1\n"
     ]
    },
    {
     "name": "stderr",
     "output_type": "stream",
     "text": [
      " 80%|████████  | 32/40 [04:47<01:05,  8.25s/it]"
     ]
    },
    {
     "name": "stdout",
     "output_type": "stream",
     "text": [
      "Value returned will violate the Matrix norm inequality\n",
      "Number of violations for p=4.10: 1\n"
     ]
    },
    {
     "name": "stderr",
     "output_type": "stream",
     "text": [
      " 82%|████████▎ | 33/40 [04:55<00:58,  8.41s/it]"
     ]
    },
    {
     "name": "stdout",
     "output_type": "stream",
     "text": [
      "Value returned will violate the Matrix norm inequality\n",
      "Number of violations for p=4.20: 2\n"
     ]
    },
    {
     "name": "stderr",
     "output_type": "stream",
     "text": [
      " 90%|█████████ | 36/40 [05:19<00:32,  8.06s/it]"
     ]
    },
    {
     "name": "stdout",
     "output_type": "stream",
     "text": [
      "Value returned will violate the Matrix norm inequality\n",
      "Number of violations for p=4.50: 2\n"
     ]
    },
    {
     "name": "stderr",
     "output_type": "stream",
     "text": [
      " 95%|█████████▌| 38/40 [05:35<00:15,  7.96s/it]"
     ]
    },
    {
     "name": "stdout",
     "output_type": "stream",
     "text": [
      "Value returned will violate the Matrix norm inequality\n",
      "Number of violations for p=4.70: 1\n"
     ]
    },
    {
     "name": "stderr",
     "output_type": "stream",
     "text": [
      " 98%|█████████▊| 39/40 [05:42<00:07,  7.76s/it]"
     ]
    },
    {
     "name": "stdout",
     "output_type": "stream",
     "text": [
      "Value returned will violate the Matrix norm inequality\n",
      "Number of violations for p=4.80: 1\n"
     ]
    },
    {
     "name": "stderr",
     "output_type": "stream",
     "text": [
      "100%|██████████| 40/40 [05:51<00:00,  8.79s/it]"
     ]
    },
    {
     "name": "stdout",
     "output_type": "stream",
     "text": [
      "Value returned will violate the Matrix norm inequality\n",
      "Number of violations for p=4.90: 1\n"
     ]
    },
    {
     "name": "stderr",
     "output_type": "stream",
     "text": [
      "\n"
     ]
    },
    {
     "data": {
      "application/vnd.jupyter.widget-view+json": {
       "model_id": "b18207a1b9f24b98bd3bec528a486604",
       "version_major": 2,
       "version_minor": 0
      },
      "image/png": "[encoded data removed]",
      "text/html": [
       "\n",
       "            <div style=\"display: inline-block;\">\n",
       "                <div class=\"jupyter-widgets widget-label\" style=\"text-align: center;\">\n",
       "                    Figure\n",
       "                </div>\n",
       "                <img src='data:image/png;base64,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' width=640.0/>\n",
       "            </div>\n",
       "        "
      ],
      "text/plain": [
       "Canvas(toolbar=Toolbar(toolitems=[('Home', 'Reset original view', 'home', 'home'), ('Back', 'Back to previous …"
      ]
     },
     "metadata": {},
     "output_type": "display_data"
    }
   ],
   "source": [
    "plt.close('all')\n",
    "figure3 = plt.figure()\n",
    "ps = np.arange(1, 5, 0.1)\n",
    "# norms = [max_sim_diag(A, U, p, step=.01) for p in tqdm(ps)]\n",
    "# b, a = zip(*norms)\n",
    "# b = [x.item() for x in b]\n",
    "# a = [x.item() for x in a]\n",
    "adam_norms = [msda.max_sim_diag(A, U, p, err_a=1e-6, step_size=1e-2, lyfe_cycle=3) for p in tqdm(ps)]\n",
    "G, a = zip(*adam_norms)\n",
    "G = [x.item() for x in G]\n",
    "a = [x.item() for x in a]\n",
    "plt.plot(ps, G, label='Adam\\'s Genetics of BA')\n",
    "# plt.plot(ps, b, label='gradient with momentum')\n",
    "plt.plot(ps, a, label='Power Method of A', linestyle='--')\n",
    "plt.legend()\n",
    "# qs = 1 - 1 / (1 - ps)\n",
    "# plt.plot(ps, np.maximum(2**(1/ps), 2**(1/ps)), linestyle='--', linewidth=2)\n",
    "plt.show()"
   ]
  },
  {
   "cell_type": "code",
   "execution_count": 372,
   "metadata": {},
   "outputs": [
    {
     "name": "stdout",
     "output_type": "stream",
     "text": [
      "yes\n"
     ]
    }
   ],
   "source": [
    "j = 0\n",
    "\n",
    "if(~j):\n",
    "    print('yes')"
   ]
  }
 ],
 "metadata": {
  "kernelspec": {
   "display_name": "Python 3",
   "language": "python",
   "name": "python3"
  },
  "language_info": {
   "codemirror_mode": {
    "name": "ipython",
    "version": 3
   },
   "file_extension": ".py",
   "mimetype": "text/x-python",
   "name": "python",
   "nbconvert_exporter": "python",
   "pygments_lexer": "ipython3",
   "version": "3.12.4"
  }
 },
 "nbformat": 4,
 "nbformat_minor": 2
}
