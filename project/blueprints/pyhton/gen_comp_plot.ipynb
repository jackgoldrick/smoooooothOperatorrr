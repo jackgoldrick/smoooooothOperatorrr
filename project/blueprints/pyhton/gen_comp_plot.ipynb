{
 "cells": [
  {
   "cell_type": "code",
   "execution_count": 40,
   "metadata": {},
   "outputs": [],
   "source": [
    "import numpy as np\n",
    "from matplotlib import pyplot as plt\n",
    "from tqdm import tqdm\n",
    "import torch as tc\n",
    "\n",
    "from p_power import *"
   ]
  },
  {
   "cell_type": "code",
   "execution_count": 41,
   "metadata": {},
   "outputs": [],
   "source": [
    "# y = tc.complex(tc.Tensor([[1, 0, 1, 0], [0, 1, 0, 1]]), tc.zeros(2, 4)).T\n",
    "y = tc.complex(\n",
    "        *[tc.normal(mean=tc.zeros((100,100)), std=1) for _ in range(2)]\n",
    "    ).to(device)"
   ]
  },
  {
   "cell_type": "code",
   "execution_count": 42,
   "metadata": {},
   "outputs": [
    {
     "data": {
      "text/plain": [
       "(tensor([[[[27.4900]]]]),\n",
       " tensor([[[[-0.1414+0.1282j],\n",
       "           [-0.2015-0.0374j],\n",
       "           [-0.0365+0.0051j],\n",
       "           [ 0.0498-0.0052j],\n",
       "           [ 0.0046+0.1502j],\n",
       "           [-0.0454-0.0110j],\n",
       "           [ 0.0571-0.0045j],\n",
       "           [-0.1987+0.0933j],\n",
       "           [-0.0480-0.0449j],\n",
       "           [ 0.0659-0.0360j],\n",
       "           [-0.0255-0.0765j],\n",
       "           [ 0.0296+0.0545j],\n",
       "           [-0.0314-0.0931j],\n",
       "           [-0.1044+0.0447j],\n",
       "           [ 0.0227-0.1351j],\n",
       "           [-0.0818-0.0759j],\n",
       "           [ 0.0402+0.0215j],\n",
       "           [-0.0741+0.0274j],\n",
       "           [ 0.0510-0.1009j],\n",
       "           [-0.0340-0.1092j],\n",
       "           [-0.0627-0.0983j],\n",
       "           [-0.0547+0.1086j],\n",
       "           [ 0.0842-0.0479j],\n",
       "           [-0.0229+0.0277j],\n",
       "           [-0.0365-0.0037j],\n",
       "           [-0.0471-0.0563j],\n",
       "           [ 0.0623-0.0997j],\n",
       "           [-0.0465+0.0246j],\n",
       "           [-0.1373+0.0380j],\n",
       "           [ 0.0385-0.0229j],\n",
       "           [-0.0117+0.0891j],\n",
       "           [ 0.0213+0.0717j],\n",
       "           [ 0.0231+0.0395j],\n",
       "           [-0.0508-0.0131j],\n",
       "           [ 0.0821-0.0750j],\n",
       "           [-0.1149+0.0191j],\n",
       "           [-0.0020-0.0166j],\n",
       "           [ 0.1013+0.1264j],\n",
       "           [-0.0210+0.0248j],\n",
       "           [-0.0621+0.1398j],\n",
       "           [ 0.0882-0.0362j],\n",
       "           [ 0.0051-0.0277j],\n",
       "           [-0.0597+0.0678j],\n",
       "           [ 0.0492+0.1087j],\n",
       "           [-0.0108+0.0896j],\n",
       "           [-0.0683-0.0339j],\n",
       "           [-0.0993+0.0967j],\n",
       "           [-0.0181-0.0296j],\n",
       "           [-0.0014-0.0373j],\n",
       "           [-0.0253-0.0571j],\n",
       "           [ 0.0747-0.0093j],\n",
       "           [ 0.0487+0.1079j],\n",
       "           [ 0.0835+0.0452j],\n",
       "           [ 0.0418+0.0104j],\n",
       "           [-0.0515+0.0919j],\n",
       "           [ 0.0060+0.0225j],\n",
       "           [-0.0740+0.0604j],\n",
       "           [ 0.0930+0.0211j],\n",
       "           [ 0.0829-0.0342j],\n",
       "           [ 0.0320-0.0271j],\n",
       "           [-0.0537-0.0629j],\n",
       "           [ 0.0184+0.1446j],\n",
       "           [-0.1072+0.0555j],\n",
       "           [-0.0245-0.0120j],\n",
       "           [-0.0135+0.0046j],\n",
       "           [ 0.1335-0.0595j],\n",
       "           [-0.0031+0.0575j],\n",
       "           [-0.0316-0.0393j],\n",
       "           [ 0.0018-0.0005j],\n",
       "           [-0.0147-0.0764j],\n",
       "           [-0.0274+0.0072j],\n",
       "           [ 0.0151+0.0530j],\n",
       "           [ 0.0697+0.0653j],\n",
       "           [-0.1620-0.1013j],\n",
       "           [-0.0987-0.0300j],\n",
       "           [-0.1095+0.1046j],\n",
       "           [ 0.0123+0.0532j],\n",
       "           [ 0.1340-0.0626j],\n",
       "           [-0.0351-0.0577j],\n",
       "           [ 0.0457-0.0647j],\n",
       "           [-0.0471+0.0396j],\n",
       "           [-0.0285-0.0478j],\n",
       "           [ 0.0297-0.1235j],\n",
       "           [-0.1404+0.0008j],\n",
       "           [-0.0598+0.0068j],\n",
       "           [ 0.0581+0.0588j],\n",
       "           [-0.0124-0.0999j],\n",
       "           [-0.0833+0.2054j],\n",
       "           [ 0.0045+0.0854j],\n",
       "           [-0.0005+0.0749j],\n",
       "           [ 0.1286-0.0844j],\n",
       "           [ 0.0196+0.0728j],\n",
       "           [-0.0571+0.0197j],\n",
       "           [ 0.0278-0.0414j],\n",
       "           [-0.1357-0.0678j],\n",
       "           [-0.0208-0.0236j],\n",
       "           [ 0.0318-0.0048j],\n",
       "           [ 0.0051+0.1056j],\n",
       "           [-0.0609-0.0682j],\n",
       "           [-0.0998+0.0019j]]]]))"
      ]
     },
     "execution_count": 42,
     "metadata": {},
     "output_type": "execute_result"
    }
   ],
   "source": [
    "p_power(y, 2)"
   ]
  },
  {
   "cell_type": "code",
   "execution_count": 43,
   "metadata": {},
   "outputs": [
    {
     "data": {
      "text/plain": [
       "tensor(27.4900)"
      ]
     },
     "execution_count": 43,
     "metadata": {},
     "output_type": "execute_result"
    }
   ],
   "source": [
    "tc.linalg.matrix_norm(y, ord=2)"
   ]
  },
  {
   "cell_type": "code",
   "execution_count": 44,
   "metadata": {},
   "outputs": [
    {
     "name": "stderr",
     "output_type": "stream",
     "text": [
      "  0%|          | 0/40 [00:00<?, ?it/s]"
     ]
    },
    {
     "name": "stderr",
     "output_type": "stream",
     "text": [
      "100%|██████████| 40/40 [00:25<00:00,  1.55it/s]\n",
      "C:\\Users\\jackr\\AppData\\Local\\Temp\\ipykernel_24688\\1917097199.py:5: RuntimeWarning: divide by zero encountered in divide\n",
      "  qs = 1 - 1 / (1 - ps)\n"
     ]
    },
    {
     "data": {
      "image/png": "[encoded data removed]",
      "text/plain": [
       "<Figure size 640x480 with 1 Axes>"
      ]
     },
     "metadata": {},
     "output_type": "display_data"
    }
   ],
   "source": [
    "ps = np.arange(1, 5, 0.1)\n",
    "norms = [p_power(y, p, s_max=1000)[0] for p in tqdm(ps)]\n",
    "norms = [n if n==0 else n.item() for n in norms]\n",
    "plt.plot(ps, norms)\n",
    "qs = 1 - 1 / (1 - ps)\n",
    "# plt.plot(ps, np.maximum(2**(1/ps), 2**(1/ps)), linestyle='--', linewidth=2)\n",
    "plt.show()"
   ]
  },
  {
   "cell_type": "code",
   "execution_count": 45,
   "metadata": {},
   "outputs": [
    {
     "data": {
      "text/plain": [
       "array([1. , 1.1, 1.2, 1.3, 1.4, 1.5, 1.6, 1.7, 1.8, 1.9, 2. , 2.1, 2.2,\n",
       "       2.3, 2.4, 2.5, 2.6, 2.7, 2.8, 2.9, 3. , 3.1, 3.2, 3.3, 3.4, 3.5,\n",
       "       3.6, 3.7, 3.8, 3.9, 4. , 4.1, 4.2, 4.3, 4.4, 4.5, 4.6, 4.7, 4.8,\n",
       "       4.9])"
      ]
     },
     "execution_count": 45,
     "metadata": {},
     "output_type": "execute_result"
    }
   ],
   "source": [
    "ps"
   ]
  },
  {
   "cell_type": "code",
   "execution_count": 46,
   "metadata": {},
   "outputs": [
    {
     "data": {
      "text/plain": [
       "[139.42906188964844,\n",
       " 92.9903335571289,\n",
       " 66.47254943847656,\n",
       " 50.16680145263672,\n",
       " 39.837745666503906,\n",
       " 33.39891815185547,\n",
       " 29.79817771911621,\n",
       " 28.44466209411621,\n",
       " 27.830913543701172,\n",
       " 27.566871643066406,\n",
       " 27.489992141723633,\n",
       " 27.52718734741211,\n",
       " 27.673654556274414,\n",
       " 27.952512741088867,\n",
       " 28.346111297607422,\n",
       " 28.88813591003418,\n",
       " 29.63772964477539,\n",
       " 30.578920364379883,\n",
       " 31.66355323791504,\n",
       " 32.85033416748047,\n",
       " 34.10777282714844,\n",
       " 35.41085433959961,\n",
       " 36.742332458496094,\n",
       " 38.08729553222656,\n",
       " 39.435882568359375,\n",
       " 40.78084945678711,\n",
       " 42.116737365722656,\n",
       " 43.43949508666992,\n",
       " 44.74606704711914,\n",
       " 46.0341682434082,\n",
       " 47.302146911621094,\n",
       " 48.5488166809082,\n",
       " 49.7733268737793,\n",
       " 50.97514724731445,\n",
       " 52.153953552246094,\n",
       " 53.30963134765625,\n",
       " 54.44218444824219,\n",
       " 55.55172348022461,\n",
       " 56.63848876953125,\n",
       " 57.702735900878906]"
      ]
     },
     "execution_count": 46,
     "metadata": {},
     "output_type": "execute_result"
    }
   ],
   "source": [
    "norms"
   ]
  },
  {
   "cell_type": "code",
   "execution_count": 47,
   "metadata": {},
   "outputs": [
    {
     "data": {
      "text/plain": [
       "tensor(27.4900)"
      ]
     },
     "execution_count": 47,
     "metadata": {},
     "output_type": "execute_result"
    }
   ],
   "source": [
    "tc.linalg.matrix_norm(y, ord=2)"
   ]
  },
  {
   "cell_type": "code",
   "execution_count": 48,
   "metadata": {},
   "outputs": [
    {
     "data": {
      "text/plain": [
       "tensor([[-2.3638e-02+6.3190e-03j,  3.1668e-03-8.1294e-04j,\n",
       "         -1.4221e-03-3.3493e-03j,  ...,\n",
       "         -4.3735e-05-4.6592e-05j, -5.0642e-03+3.7138e-03j,\n",
       "         -1.6586e-02-6.0806e-03j],\n",
       "        [-2.0381e-04+1.6986e-04j, -1.4659e-02+2.0038e-02j,\n",
       "          1.9636e-04+4.4459e-03j,  ...,\n",
       "         -1.3794e-03+3.7999e-03j, -2.9546e-03+1.3542e-03j,\n",
       "         -1.3987e-02+2.8516e-02j],\n",
       "        [-1.8128e-03-1.1070e-02j, -8.6571e-03-3.1685e-03j,\n",
       "          3.1071e-03+1.9178e-03j,  ...,\n",
       "         -1.4699e-03+5.0073e-03j,  1.3595e-02-3.1532e-03j,\n",
       "         -3.3260e-03+5.0183e-03j],\n",
       "        ...,\n",
       "        [ 1.0012e-03+1.2723e-03j, -1.3375e-03-1.9326e-03j,\n",
       "         -1.9784e-03+1.4977e-03j,  ...,\n",
       "         -7.0354e-03+3.4385e-03j,  2.0415e-03-4.3114e-03j,\n",
       "          8.4002e-03-3.2736e-03j],\n",
       "        [ 7.9606e-03-6.4678e-03j,  8.1465e-04+1.8143e-03j,\n",
       "         -9.8902e-04-3.5106e-04j,  ...,\n",
       "          1.5664e-02-1.0137e-01j,  7.0587e-03-2.1119e-03j,\n",
       "          1.0086e-03+7.9496e-04j],\n",
       "        [ 1.9246e-04+6.4092e-04j,  1.2698e-02-1.5840e-02j,\n",
       "         -5.1477e-03+1.0720e-02j,  ...,\n",
       "          1.1451e-03+4.3445e-03j,  8.7716e-03-4.5338e-03j,\n",
       "          1.5777e-03-9.0500e-03j]])"
      ]
     },
     "execution_count": 48,
     "metadata": {},
     "output_type": "execute_result"
    }
   ],
   "source": [
    "dual(y, p=2, dim=1)**2"
   ]
  },
  {
   "cell_type": "code",
   "execution_count": 49,
   "metadata": {},
   "outputs": [
    {
     "data": {
      "text/plain": [
       "range(0, 2)"
      ]
     },
     "execution_count": 49,
     "metadata": {},
     "output_type": "execute_result"
    }
   ],
   "source": [
    "range(2)"
   ]
  },
  {
   "cell_type": "code",
   "execution_count": 50,
   "metadata": {},
   "outputs": [
    {
     "ename": "RuntimeError",
     "evalue": "Index put requires the source and destination dtypes match, got ComplexFloat for the destination and Float for the source.",
     "output_type": "error",
     "traceback": [
      "\u001b[1;31m---------------------------------------------------------------------------\u001b[0m",
      "\u001b[1;31mRuntimeError\u001b[0m                              Traceback (most recent call last)",
      "Cell \u001b[1;32mIn[50], line 6\u001b[0m\n\u001b[0;32m      4\u001b[0m range_shape[dim] \u001b[38;5;241m=\u001b[39m \u001b[38;5;241m-\u001b[39m\u001b[38;5;241m1\u001b[39m\n\u001b[0;32m      5\u001b[0m y_dual \u001b[38;5;241m=\u001b[39m \u001b[38;5;241m0\u001b[39m \u001b[38;5;241m*\u001b[39m y\n\u001b[1;32m----> 6\u001b[0m \u001b[43my_dual\u001b[49m\u001b[43m[\u001b[49m\u001b[43mtc\u001b[49m\u001b[38;5;241;43m.\u001b[39;49m\u001b[43marange\u001b[49m\u001b[43m(\u001b[49m\u001b[43my\u001b[49m\u001b[38;5;241;43m.\u001b[39;49m\u001b[43mshape\u001b[49m\u001b[43m[\u001b[49m\u001b[43mdim\u001b[49m\u001b[43m]\u001b[49m\u001b[43m)\u001b[49m\u001b[38;5;241;43m.\u001b[39;49m\u001b[43mreshape\u001b[49m\u001b[43m(\u001b[49m\u001b[43mrange_shape\u001b[49m\u001b[43m)\u001b[49m\u001b[43m \u001b[49m\u001b[38;5;241;43m==\u001b[39;49m\u001b[43m \u001b[49m\u001b[43mind\u001b[49m\u001b[43m]\u001b[49m \u001b[38;5;241m=\u001b[39m val\u001b[38;5;241m.\u001b[39msgn()\u001b[38;5;241m.\u001b[39mflatten()\n\u001b[0;32m      7\u001b[0m \u001b[38;5;66;03m#y_dual[tc.arange(y.shape[dim]).reshape(range_shape) == ind] = tc.sgn(val)\u001b[39;00m\n",
      "\u001b[1;31mRuntimeError\u001b[0m: Index put requires the source and destination dtypes match, got ComplexFloat for the destination and Float for the source."
     ]
    }
   ],
   "source": [
    "dim=1\n",
    "val, ind = y.abs().max(dim=dim, keepdim=True)\n",
    "range_shape = [1 for _ in range(len(y.shape))]\n",
    "range_shape[dim] = -1\n",
    "y_dual = 0 * y\n",
    "y_dual[tc.arange(y.shape[dim]).reshape(range_shape) == ind] = val.sgn().flatten()\n",
    "#y_dual[tc.arange(y.shape[dim]).reshape(range_shape) == ind] = tc.sgn(val)"
   ]
  },
  {
   "cell_type": "code",
   "execution_count": null,
   "metadata": {},
   "outputs": [
    {
     "data": {
      "text/plain": [
       "tensor([[0., 0., 1.],\n",
       "        [1., -0., -0.]])"
      ]
     },
     "execution_count": 14,
     "metadata": {},
     "output_type": "execute_result"
    }
   ],
   "source": [
    "y_dual"
   ]
  },
  {
   "cell_type": "code",
   "execution_count": null,
   "metadata": {},
   "outputs": [],
   "source": []
  }
 ],
 "metadata": {
  "kernelspec": {
   "display_name": "Python 3",
   "language": "python",
   "name": "python3"
  },
  "language_info": {
   "codemirror_mode": {
    "name": "ipython",
    "version": 3
   },
   "file_extension": ".py",
   "mimetype": "text/x-python",
   "name": "python",
   "nbconvert_exporter": "python",
   "pygments_lexer": "ipython3",
   "version": "3.12.3"
  }
 },
 "nbformat": 4,
 "nbformat_minor": 2
}
